{
 "cells": [
  {
   "cell_type": "markdown",
   "id": "8ba86faa",
   "metadata": {},
   "source": [
    "# Playground september - Kaggle"
   ]
  },
  {
   "cell_type": "markdown",
   "id": "6d9aa4d2",
   "metadata": {},
   "source": [
    "## Importing modules"
   ]
  },
  {
   "cell_type": "code",
   "execution_count": 1,
   "id": "132d4491",
   "metadata": {},
   "outputs": [],
   "source": [
    "import pandas as pd\n",
    "import numpy as np\n",
    "import matplotlib.pyplot as plt"
   ]
  },
  {
   "cell_type": "markdown",
   "id": "380b2af6",
   "metadata": {},
   "source": [
    "## Reading CSV for test and train"
   ]
  },
  {
   "cell_type": "code",
   "execution_count": 64,
   "id": "f291032f",
   "metadata": {},
   "outputs": [
    {
     "name": "stdout",
     "output_type": "stream",
     "text": [
      "         f1        f2         f3        f4       f5        f6       f7  \\\n",
      "id                                                                       \n",
      "0   0.10859  0.004314    -37.566  0.017364  0.28915 -10.25100   135.12   \n",
      "1   0.10090  0.299610  11822.000  0.276500  0.45970  -0.83733  1721.90   \n",
      "2   0.17803 -0.006980    907.270  0.272140  0.45948   0.17327  2298.00   \n",
      "3   0.15236  0.007259    780.100  0.025179  0.51947   7.49140   112.51   \n",
      "4   0.11623  0.502900   -109.150  0.297910  0.34490  -0.40932  2538.90   \n",
      "\n",
      "          f8            f9        f10  ...     f110    f111     f112  \\\n",
      "id                                     ...                             \n",
      "0   168900.0  3.992400e+14     86.489  ... -12.2280  1.7482  1.90960   \n",
      "1   119810.0  3.874100e+15   9953.600  ... -56.7580  4.1684  0.34808   \n",
      "2   360650.0  1.224500e+13  15827.000  ...  -5.7688  1.2042  0.26290   \n",
      "3   259490.0  7.781400e+13    -36.837  ... -34.8580  2.0694  0.79631   \n",
      "4    65332.0  1.907200e+15    144.120  ... -13.6410  1.5298  1.14640   \n",
      "\n",
      "        f113      f114    f115          f116    f117     f118  claim  \n",
      "id                                                                    \n",
      "0   -7.11570   4378.80  1.2096  8.613400e+14   140.1  1.01770      1  \n",
      "1    4.14200    913.23  1.2464  7.575100e+15  1861.0  0.28359      0  \n",
      "2    8.13120  45119.00  1.1764  3.218100e+14  3838.2  0.40690      1  \n",
      "3  -16.33600   4952.40  1.1784  4.533000e+12  4889.1  0.51486      1  \n",
      "4   -0.43124   3856.50  1.4830 -8.991300e+12     NaN  0.23049      1  \n",
      "\n",
      "[5 rows x 119 columns]\n",
      "              f1       f2       f3        f4        f5       f6      f7  \\\n",
      "id                                                                        \n",
      "957914  0.098979  0.20253  2192.10  0.348010  0.276430 -0.84065  2214.2   \n",
      "957915  0.134930  0.41360  1050.10  0.000521 -0.001246  1.76990  3519.9   \n",
      "957916  0.104660  0.47351  2415.40  0.252230  0.196970 -0.82323  3044.9   \n",
      "957917  0.118190  0.32087   657.86  0.237290  0.260250 -0.71237   173.2   \n",
      "957918  0.088832  0.47223  4309.40  0.017016  0.376880  4.81520   458.2   \n",
      "\n",
      "              f8            f9      f10  ...     f110    f111       f112  \\\n",
      "id                                       ...                               \n",
      "957914   26246.0  1.061600e+15  10882.0  ... -51.2970  1.7323   20.76300   \n",
      "957915  862290.0  7.321400e+13   2869.0  ... -41.4180  2.6986   -1.09760   \n",
      "957916   13832.0  2.693300e+12   2294.7  ... -15.9670  1.6843    1.07590   \n",
      "957917   20811.0  9.711000e+14  14315.0  ...  -2.8375  1.3006  132.50000   \n",
      "957918   42183.0  1.805500e+13   3155.7  ... -24.2290  2.4189    0.67939   \n",
      "\n",
      "           f113     f114    f115          f116     f117     f118  claim  \n",
      "id                                                                       \n",
      "957914  14.7440  27415.0  1.2160  2.139400e+13  2612.00  0.42597      0  \n",
      "957915  -1.0998  13826.0  1.3320  1.829400e+17  3300.50  0.92974      1  \n",
      "957916  16.6460   8655.1  1.1113  1.925800e+16   297.61  0.91446      0  \n",
      "957917   8.5305   3842.1  1.1941  1.248300e+16  5212.10  0.20942      1  \n",
      "957918      NaN   5901.4  1.0907  1.213800e+16  2132.30  0.38069      0  \n",
      "\n",
      "[5 rows x 119 columns]\n",
      "       id        f1        f2        f3       f4       f5       f6       f7  \\\n",
      "0  957919  0.165850  0.487050   1295.00  0.02310  0.31900  0.90188   573.29   \n",
      "1  957920  0.129650  0.373480   1763.00  0.72884  0.33247 -1.26310   875.55   \n",
      "2  957921  0.120190  0.445210    736.26  0.04615  0.29605  0.31665  2659.50   \n",
      "3  957922  0.054008  0.395960    996.14  0.85934  0.36678 -0.17060   386.56   \n",
      "4  957923  0.079947 -0.006919  10574.00  0.34845  0.45008 -1.84200  3027.00   \n",
      "\n",
      "         f8            f9  ...     f109     f110    f111      f112     f113  \\\n",
      "0    3743.7  2.705700e+12  ...  0.16253 -22.1890  2.0655  0.430880 -10.7410   \n",
      "1  554370.0  5.955700e+14  ...  0.81528  -1.6342  1.5736 -1.071200  11.8320   \n",
      "2  317140.0  3.977800e+14  ...  0.81831 -32.7800  2.1364 -1.931200  -3.2804   \n",
      "3  325680.0 -3.432200e+13  ...  0.86559  -2.4162  1.5199 -0.011633   1.3840   \n",
      "4  428150.0  9.291500e+11  ...  0.25190 -18.6300  3.7387  0.757080  -4.9405   \n",
      "\n",
      "      f114    f115          f116    f117     f118  \n",
      "0  81606.0  1.1940  1.980400e+14  2017.1  0.46357  \n",
      "1  90114.0  1.1507  4.388000e+16  6638.9  0.28125  \n",
      "2  37739.0  1.1548  1.718100e+14  5844.0  0.13797  \n",
      "3  26849.0  1.1490  2.138800e+17  6173.3  0.32910  \n",
      "4  50336.0  1.2488  2.151300e+17  2250.1  0.33796  \n",
      "\n",
      "[5 rows x 119 columns]\n",
      "             id        f1       f2       f3        f4       f5        f6  \\\n",
      "493469  1451388 -0.009112  0.30819   637.64  0.778200  0.41415 -1.068500   \n",
      "493470  1451389  0.088922  0.48265  6924.10  0.025963  0.35540 -0.870200   \n",
      "493471  1451390  0.140620  0.48475  1797.10  0.147020  0.28803 -1.407100   \n",
      "493472  1451391  0.168000  0.35176   454.79  0.164580  0.16983  0.323850   \n",
      "493473  1451392  0.093079  0.50186  3322.40       NaN  0.33269  0.056827   \n",
      "\n",
      "             f7        f8            f9  ...      f109     f110    f111  \\\n",
      "493469   651.22  985000.0  6.079700e+15  ...  0.249550 -17.5100  2.3325   \n",
      "493470  2514.20   18004.0  6.073500e+14  ...  0.017970  -7.8690  1.7005   \n",
      "493471   434.03  333050.0  2.351000e+15  ...  0.013841  -5.3824  1.6827   \n",
      "493472  2331.20  223980.0 -2.795300e+12  ...  0.858730  -4.2416  1.3531   \n",
      "493473  2568.70   39185.0  1.489300e+14  ...  0.889390 -13.9390  1.4480   \n",
      "\n",
      "             f112     f113     f114    f115          f116     f117     f118  \n",
      "493469    0.11226  -5.9238      NaN  1.1559  8.163900e+16   857.09  1.56330  \n",
      "493470   97.81300   4.3793 -2432.00  1.0707  4.691800e+16  7497.10  0.67075  \n",
      "493471        NaN   8.0633  2471.40  1.1725  7.900900e+16  2904.60  0.18005  \n",
      "493472  155.21000  13.9630   -11.44  1.1946 -1.770600e+14  6763.10  0.33223  \n",
      "493473   -1.51290 -15.4360   662.46  1.1778  2.459300e+15  8770.00  0.95503  \n",
      "\n",
      "[5 rows x 119 columns]\n"
     ]
    }
   ],
   "source": [
    "train_df = pd.read_csv(r'C:\\Users\\gabri\\OneDrive\\Documents\\Programming\\Kaggle\\PlaygroundSept\\train.csv', index_col=0)\n",
    "\n",
    "print(train_df.head())\n",
    "\n",
    "print(train_df.tail())\n",
    "\n",
    "\n",
    "test_df = pd.read_csv(r'C:\\Users\\gabri\\OneDrive\\Documents\\Programming\\Kaggle\\PlaygroundSept\\test.csv')\n",
    "\n",
    "print(test_df.head())\n",
    "\n",
    "print(test_df.tail())"
   ]
  },
  {
   "cell_type": "markdown",
   "id": "de7f3164",
   "metadata": {},
   "source": [
    "## EDA"
   ]
  },
  {
   "cell_type": "code",
   "execution_count": 3,
   "id": "9ce0c008",
   "metadata": {},
   "outputs": [
    {
     "name": "stdout",
     "output_type": "stream",
     "text": [
      "                  f1             f2             f3             f4  \\\n",
      "count  942672.000000  942729.000000  942428.000000  942359.000000   \n",
      "mean        0.090201       0.345964    4068.744207       0.201214   \n",
      "std         0.043564       0.146251    6415.829440       0.212510   \n",
      "min        -0.149910      -0.019044   -9421.700000      -0.082122   \n",
      "25%         0.070227       0.283050     418.430000       0.035086   \n",
      "50%         0.090135       0.389100    1279.500000       0.137000   \n",
      "75%         0.116500       0.458450    4444.400000       0.297100   \n",
      "max         0.415170       0.518990   39544.000000       1.319900   \n",
      "\n",
      "                  f5             f6             f7            f8  \\\n",
      "count  942514.000000  942398.000000  942415.000000  9.425460e+05   \n",
      "mean        0.304869      -0.071458    1620.843815  3.771642e+05   \n",
      "std         0.145343       2.123777    1276.281403  3.454325e+05   \n",
      "min        -0.006990     -12.791000    -224.800000 -2.984300e+04   \n",
      "25%         0.240520      -1.120700     481.545000  9.120900e+04   \n",
      "50%         0.327790      -0.380110    1446.100000  2.896700e+05   \n",
      "75%         0.412830       0.921940    2495.900000  5.605600e+05   \n",
      "max         0.554750      11.202000    5426.600000  1.913700e+06   \n",
      "\n",
      "                 f9            f10  ...           f110           f111  \\\n",
      "count  9.426700e+05  942696.000000  ...  942554.000000  942420.000000   \n",
      "mean   1.806054e+15    5323.442367  ...     -19.926398       2.074530   \n",
      "std    2.335204e+15   10068.380032  ...      18.578439       0.895793   \n",
      "min   -1.153300e+15  -26404.000000  ...    -105.860000       0.277040   \n",
      "25%    1.153100e+13      75.876750  ...     -28.812000       1.487700   \n",
      "50%    5.043050e+14    1073.200000  ...     -14.636000       1.662100   \n",
      "75%    3.103100e+15    5693.200000  ...      -5.325300       2.522325   \n",
      "max    1.042400e+16   85622.000000  ...       1.613400       4.565900   \n",
      "\n",
      "                f112           f113           f114           f115  \\\n",
      "count  942509.000000  942686.000000  942481.000000  942360.000000   \n",
      "mean       23.885245       1.748777   63152.973540       1.208876   \n",
      "std        45.581360      10.088848   92435.016241       0.114959   \n",
      "min       -27.691000     -26.589000  -81977.000000       0.905270   \n",
      "25%        -0.628880      -4.473975    2443.200000       1.146800   \n",
      "50%         1.727700       0.885710   19479.000000       1.177200   \n",
      "75%        18.991000       6.840775   88488.000000       1.242000   \n",
      "max       217.840000      47.757000  526050.000000       1.886700   \n",
      "\n",
      "               f116           f117           f118          claim  \n",
      "count  9.423300e+05  942512.000000  942707.000000  957919.000000  \n",
      "mean   4.276905e+16    3959.204669       0.559267       0.498492  \n",
      "std    6.732441e+16    3155.991777       0.408426       0.499998  \n",
      "min   -8.944400e+15    -415.240000      -0.151240       0.000000  \n",
      "25%    2.321100e+14    1306.200000       0.276560       0.000000  \n",
      "50%    1.327500e+16    3228.000000       0.473440       0.000000  \n",
      "75%    5.278700e+16    6137.900000       0.746210       1.000000  \n",
      "max    3.249900e+17   13151.000000       2.743600       1.000000  \n",
      "\n",
      "[8 rows x 119 columns]\n"
     ]
    }
   ],
   "source": [
    "print(train_df.describe())"
   ]
  },
  {
   "cell_type": "code",
   "execution_count": 4,
   "id": "688e0130",
   "metadata": {},
   "outputs": [
    {
     "name": "stdout",
     "output_type": "stream",
     "text": [
      "(957919, 119)\n"
     ]
    }
   ],
   "source": [
    "print(train_df.shape)"
   ]
  },
  {
   "cell_type": "code",
   "execution_count": 5,
   "id": "a185c8e6",
   "metadata": {},
   "outputs": [
    {
     "name": "stdout",
     "output_type": "stream",
     "text": [
      "f1       15247\n",
      "f2       15190\n",
      "f3       15491\n",
      "f4       15560\n",
      "f5       15405\n",
      "         ...  \n",
      "f115     15559\n",
      "f116     15589\n",
      "f117     15407\n",
      "f118     15212\n",
      "claim        0\n",
      "Length: 119, dtype: int64\n"
     ]
    }
   ],
   "source": [
    "## printing all missing values per column\n",
    "\n",
    "print(train_df.isnull().sum())"
   ]
  },
  {
   "cell_type": "code",
   "execution_count": 6,
   "id": "5ee602e5",
   "metadata": {
    "scrolled": true
   },
   "outputs": [
    {
     "name": "stdout",
     "output_type": "stream",
     "text": [
      "{int64: ['claim'], float64: ['f1', 'f2', 'f3', 'f4', 'f5', 'f6', 'f7', 'f8', 'f9', 'f10', 'f11', 'f12', 'f13', 'f14', 'f15', 'f16', 'f17', 'f18', 'f19', 'f20', 'f21', 'f22', 'f23', 'f24', 'f25', 'f26', 'f27', 'f28', 'f29', 'f30', 'f31', 'f32', 'f33', 'f34', 'f35', 'f36', 'f37', 'f38', 'f39', 'f40', 'f41', 'f42', 'f43', 'f44', 'f45', 'f46', 'f47', 'f48', 'f49', 'f50', 'f51', 'f52', 'f53', 'f54', 'f55', 'f56', 'f57', 'f58', 'f59', 'f60', 'f61', 'f62', 'f63', 'f64', 'f65', 'f66', 'f67', 'f68', 'f69', 'f70', 'f71', 'f72', 'f73', 'f74', 'f75', 'f76', 'f77', 'f78', 'f79', 'f80', 'f81', 'f82', 'f83', 'f84', 'f85', 'f86', 'f87', 'f88', 'f89', 'f90', 'f91', 'f92', 'f93', 'f94', 'f95', 'f96', 'f97', 'f98', 'f99', 'f100', ...]}\n"
     ]
    }
   ],
   "source": [
    "## Printing all dtypes to see if there are any unwanted datatypes\n",
    "\n",
    "print(train_df.columns.to_series().groupby(train_df.dtypes).groups)"
   ]
  },
  {
   "cell_type": "code",
   "execution_count": 7,
   "id": "9bb39bae",
   "metadata": {},
   "outputs": [
    {
     "name": "stdout",
     "output_type": "stream",
     "text": [
      "0    480404\n",
      "1    477515\n",
      "Name: claim, dtype: int64\n"
     ]
    }
   ],
   "source": [
    "## Printing all labels to see disparity\n",
    "\n",
    "print(train_df.iloc[:,-1].value_counts())"
   ]
  },
  {
   "cell_type": "markdown",
   "id": "bf18bbc9",
   "metadata": {},
   "source": [
    "## Data Visualization"
   ]
  },
  {
   "cell_type": "code",
   "execution_count": 8,
   "id": "a78a583a",
   "metadata": {},
   "outputs": [
    {
     "name": "stdout",
     "output_type": "stream",
     "text": [
      "f1     -0.007896\n",
      "f2     -0.008261\n",
      "f3      0.012016\n",
      "f4      0.004298\n",
      "f5     -0.004128\n",
      "          ...   \n",
      "f114    0.003163\n",
      "f115   -0.000431\n",
      "f116   -0.002366\n",
      "f117   -0.002029\n",
      "f118    0.004647\n",
      "Length: 118, dtype: float64\n",
      "Index(['f1', 'f2', 'f3', 'f4', 'f5', 'f6', 'f7', 'f8', 'f9', 'f10',\n",
      "       ...\n",
      "       'f109', 'f110', 'f111', 'f112', 'f113', 'f114', 'f115', 'f116', 'f117',\n",
      "       'f118'],\n",
      "      dtype='object', length=118)\n"
     ]
    }
   ],
   "source": [
    "## Understading data correlation of features to the labels\n",
    "\n",
    "corr = train_df[train_df.columns[0:-1]].apply(lambda x: x.corr(train_df['claim']))\n",
    "print(corr)\n",
    "\n",
    "print(corr.index)"
   ]
  },
  {
   "cell_type": "markdown",
   "id": "2b55cd44",
   "metadata": {},
   "source": [
    "## Feature Engineering"
   ]
  },
  {
   "cell_type": "code",
   "execution_count": 43,
   "id": "e725e7ee",
   "metadata": {},
   "outputs": [
    {
     "name": "stdout",
     "output_type": "stream",
     "text": [
      "         f1        f2         f3        f4       f5        f6       f7  \\\n",
      "id                                                                       \n",
      "0   0.10859  0.004314    -37.566  0.017364  0.28915 -10.25100   135.12   \n",
      "1   0.10090  0.299610  11822.000  0.276500  0.45970  -0.83733  1721.90   \n",
      "2   0.17803 -0.006980    907.270  0.272140  0.45948   0.17327  2298.00   \n",
      "3   0.15236  0.007259    780.100  0.025179  0.51947   7.49140   112.51   \n",
      "4   0.11623  0.502900   -109.150  0.297910  0.34490  -0.40932  2538.90   \n",
      "\n",
      "          f8            f9        f10  ...      f113      f114    f115  \\\n",
      "id                                     ...                               \n",
      "0   168900.0  3.992400e+14     86.489  ...  -7.11570   4378.80  1.2096   \n",
      "1   119810.0  3.874100e+15   9953.600  ...   4.14200    913.23  1.2464   \n",
      "2   360650.0  1.224500e+13  15827.000  ...   8.13120  45119.00  1.1764   \n",
      "3   259490.0  7.781400e+13    -36.837  ... -16.33600   4952.40  1.1784   \n",
      "4    65332.0  1.907200e+15    144.120  ...  -0.43124   3856.50  1.4830   \n",
      "\n",
      "            f116    f117     f118  claim  nan           std           var  \n",
      "id                                                                         \n",
      "0   8.613400e+14   140.1  1.01770      1    1  9.078680e+28  8.297873e+57  \n",
      "1   7.575100e+15  1861.0  0.28359      0    0  7.646574e+29  5.886186e+59  \n",
      "2   3.218100e+14  3838.2  0.40690      1    5  8.672243e+25  7.573072e+51  \n",
      "3   4.533000e+12  4889.1  0.51486      1    2  2.761796e+27  7.679376e+54  \n",
      "4  -8.991300e+12     NaN  0.23049      1    8  8.768477e+28  7.743318e+57  \n",
      "\n",
      "[5 rows x 122 columns]\n"
     ]
    }
   ],
   "source": [
    "train_df['nan'] = train_df.isnull().sum(axis=1)\n",
    "train_df['std'] = train_df.std(axis=1)\n",
    "train_df['var'] = train_df.var(axis=1)\n",
    "\n",
    "print(train_df.head())"
   ]
  },
  {
   "cell_type": "code",
   "execution_count": 44,
   "id": "0190f9d7",
   "metadata": {},
   "outputs": [
    {
     "name": "stdout",
     "output_type": "stream",
     "text": [
      "             f1        f2        f3        f4        f5        f6        f7  \\\n",
      "f1     1.000000 -0.002268 -0.000750 -0.000821 -0.003765  0.009284  0.000602   \n",
      "f2    -0.002268  1.000000  0.000205 -0.000595  0.003113 -0.002334 -0.000781   \n",
      "f3    -0.000750  0.000205  1.000000  0.010628  0.006783 -0.002901  0.003875   \n",
      "f4    -0.000821 -0.000595  0.010628  1.000000  0.003231  0.003064  0.008180   \n",
      "f5    -0.003765  0.003113  0.006783  0.003231  1.000000 -0.000248  0.001225   \n",
      "...         ...       ...       ...       ...       ...       ...       ...   \n",
      "f118   0.005853  0.001248  0.003134  0.007023  0.002557  0.003214  0.003918   \n",
      "claim -0.007896 -0.008261  0.012016  0.004298 -0.004128  0.010200  0.008270   \n",
      "nan   -0.005450 -0.003743  0.006267  0.002379 -0.002289  0.005759  0.003886   \n",
      "std    0.000288 -0.000518 -0.005177 -0.000671 -0.001630  0.001700 -0.002964   \n",
      "var   -0.000053 -0.001001 -0.004803 -0.000197 -0.002064  0.002308 -0.001994   \n",
      "\n",
      "             f8        f9       f10  ...      f113      f114      f115  \\\n",
      "f1    -0.002171 -0.000635 -0.000471  ... -0.002313 -0.005369 -0.011130   \n",
      "f2    -0.003636  0.002860 -0.001967  ... -0.003022  0.001848  0.002149   \n",
      "f3     0.001669 -0.003930 -0.005391  ... -0.003262  0.002242 -0.000414   \n",
      "f4     0.007495 -0.006499 -0.004776  ...  0.000250  0.008334  0.004124   \n",
      "f5     0.002853  0.002194 -0.004266  ...  0.001772  0.002400  0.000931   \n",
      "...         ...       ...       ...  ...       ...       ...       ...   \n",
      "f118   0.007154  0.002909 -0.003426  ...  0.001892 -0.006201 -0.008653   \n",
      "claim  0.014311  0.003215  0.004721  ...  0.006241  0.003163 -0.000431   \n",
      "nan    0.004502  0.001120  0.002600  ...  0.002376  0.001271 -0.000562   \n",
      "std   -0.001363  0.001431  0.001740  ... -0.002583 -0.001083  0.003600   \n",
      "var   -0.000966  0.000498  0.000857  ... -0.001999 -0.001227  0.002881   \n",
      "\n",
      "           f116      f117      f118     claim       nan       std       var  \n",
      "f1    -0.000645  0.000142  0.005853 -0.007896 -0.005450  0.000288 -0.000053  \n",
      "f2    -0.000723  0.002318  0.001248 -0.008261 -0.003743 -0.000518 -0.001001  \n",
      "f3    -0.004412  0.005906  0.003134  0.012016  0.006267 -0.005177 -0.004803  \n",
      "f4     0.000303  0.001916  0.007023  0.004298  0.002379 -0.000671 -0.000197  \n",
      "f5    -0.001489  0.000585  0.002557 -0.004128 -0.002289 -0.001630 -0.002064  \n",
      "...         ...       ...       ...       ...       ...       ...       ...  \n",
      "f118  -0.001182  0.003014  1.000000  0.004647  0.001144 -0.000262 -0.000221  \n",
      "claim -0.002366 -0.002029  0.004647  1.000000  0.452653  0.002980  0.003459  \n",
      "nan   -0.001057  0.000016  0.001144  0.452653  1.000000  0.004571  0.008937  \n",
      "std    0.928484  0.002018 -0.000262  0.002980  0.004571  1.000000  0.944565  \n",
      "var    0.837817  0.001754 -0.000221  0.003459  0.008937  0.944565  1.000000  \n",
      "\n",
      "[122 rows x 122 columns]\n"
     ]
    }
   ],
   "source": [
    "print(train_df.corr())"
   ]
  },
  {
   "cell_type": "code",
   "execution_count": 45,
   "id": "4507db9a",
   "metadata": {},
   "outputs": [
    {
     "data": {
      "image/png": "[encoded data removed]",
      "text/plain": [
       "<Figure size 432x288 with 1 Axes>"
      ]
     },
     "metadata": {
      "needs_background": "light"
     },
     "output_type": "display_data"
    }
   ],
   "source": [
    "import seaborn as sns\n",
    "\n",
    "sns.barplot(x=corr.index, y=corr.tolist())\n",
    "plt.show()"
   ]
  },
  {
   "cell_type": "markdown",
   "id": "f5ea8dbe",
   "metadata": {},
   "source": [
    "## Starting ML"
   ]
  },
  {
   "cell_type": "code",
   "execution_count": 46,
   "id": "8fd77f71",
   "metadata": {},
   "outputs": [],
   "source": [
    "from sklearn.preprocessing import StandardScaler, MinMaxScaler\n",
    "from sklearn.pipeline import Pipeline\n",
    "import xgboost as xgb\n",
    "from sklearn.tree import DecisionTreeClassifier\n",
    "from sklearn.model_selection import train_test_split\n",
    "from sklearn.model_selection import GridSearchCV\n",
    "from sklearn.impute import SimpleImputer\n",
    "from sklearn.metrics import classification_report, confusion_matrix\n",
    "from sklearn.metrics import roc_auc_score\n",
    "from sklearn.model_selection import cross_val_score\n",
    "from sklearn.linear_model import LogisticRegression\n",
    "from sklearn.svm import SVC\n",
    "from sklearn.decomposition import PCA\n",
    "from sklearn.preprocessing import RobustScaler"
   ]
  },
  {
   "cell_type": "code",
   "execution_count": 47,
   "id": "834458bb",
   "metadata": {},
   "outputs": [
    {
     "name": "stdout",
     "output_type": "stream",
     "text": [
      "These are the Train features: \n",
      "          f1        f2         f3        f4       f5        f6       f7  \\\n",
      "id                                                                       \n",
      "0   0.10859  0.004314    -37.566  0.017364  0.28915 -10.25100   135.12   \n",
      "1   0.10090  0.299610  11822.000  0.276500  0.45970  -0.83733  1721.90   \n",
      "2   0.17803 -0.006980    907.270  0.272140  0.45948   0.17327  2298.00   \n",
      "3   0.15236  0.007259    780.100  0.025179  0.51947   7.49140   112.51   \n",
      "4   0.11623  0.502900   -109.150  0.297910  0.34490  -0.40932  2538.90   \n",
      "\n",
      "          f8            f9        f10  ...     f112      f113      f114  \\\n",
      "id                                     ...                                \n",
      "0   168900.0  3.992400e+14     86.489  ...  1.90960  -7.11570   4378.80   \n",
      "1   119810.0  3.874100e+15   9953.600  ...  0.34808   4.14200    913.23   \n",
      "2   360650.0  1.224500e+13  15827.000  ...  0.26290   8.13120  45119.00   \n",
      "3   259490.0  7.781400e+13    -36.837  ...  0.79631 -16.33600   4952.40   \n",
      "4    65332.0  1.907200e+15    144.120  ...  1.14640  -0.43124   3856.50   \n",
      "\n",
      "      f115          f116    f117     f118  nan           std           var  \n",
      "id                                                                          \n",
      "0   1.2096  8.613400e+14   140.1  1.01770    1  9.078680e+28  8.297873e+57  \n",
      "1   1.2464  7.575100e+15  1861.0  0.28359    0  7.646574e+29  5.886186e+59  \n",
      "2   1.1764  3.218100e+14  3838.2  0.40690    5  8.672243e+25  7.573072e+51  \n",
      "3   1.1784  4.533000e+12  4889.1  0.51486    2  2.761796e+27  7.679376e+54  \n",
      "4   1.4830 -8.991300e+12     NaN  0.23049    8  8.768477e+28  7.743318e+57  \n",
      "\n",
      "[5 rows x 121 columns]\n",
      "This is the Train labels: \n",
      " id\n",
      "0    1\n",
      "1    0\n",
      "2    1\n",
      "3    1\n",
      "4    1\n",
      "Name: claim, dtype: int64\n"
     ]
    }
   ],
   "source": [
    "### Separating labels and features\n",
    "\n",
    "\n",
    "X = train_df.drop('claim', axis=1)\n",
    "\n",
    "y = train_df.iloc[:,-4]\n",
    "\n",
    "print('These are the Train features:','\\n', X.head())\n",
    "\n",
    "\n",
    "\n",
    "print('This is the Train labels:','\\n', y.head())"
   ]
  },
  {
   "cell_type": "code",
   "execution_count": 48,
   "id": "d5985f1c",
   "metadata": {
    "scrolled": true
   },
   "outputs": [
    {
     "name": "stdout",
     "output_type": "stream",
     "text": [
      "[Pipeline] ........... (step 1 of 3) Processing inputer, total=   1.8s\n",
      "[Pipeline] ............ (step 2 of 3) Processing scaler, total=   1.5s\n",
      "[23:26:37] WARNING: ..\\src\\learner.cc:1061: Starting in XGBoost 1.3.0, the default evaluation metric used with the objective 'binary:logistic' was changed from 'error' to 'logloss'. Explicitly set eval_metric if you'd like to restore the old behavior.\n",
      "[Pipeline] ............. (step 3 of 3) Processing model, total= 3.3min\n"
     ]
    },
    {
     "data": {
      "text/plain": [
       "Pipeline(steps=[('inputer', SimpleImputer()), ('scaler', StandardScaler()),\n",
       "                ('model',\n",
       "                 XGBClassifier(base_score=0.5, booster='gbtree',\n",
       "                               colsample_bylevel=1, colsample_bynode=1,\n",
       "                               colsample_bytree=1, gamma=0, gpu_id=-1,\n",
       "                               importance_type='gain',\n",
       "                               interaction_constraints='',\n",
       "                               learning_rate=0.300000012, max_delta_step=0,\n",
       "                               max_depth=6, min_child_weight=1, missing=nan,\n",
       "                               monotone_constraints='()', n_estimators=100,\n",
       "                               n_jobs=12, num_parallel_tree=1, random_state=123,\n",
       "                               reg_alpha=0, reg_lambda=1, scale_pos_weight=1,\n",
       "                               seed=123, subsample=1, tree_method='exact',\n",
       "                               use_label_encoder=False, validate_parameters=1,\n",
       "                               verbosity=None))],\n",
       "         verbose=True)"
      ]
     },
     "execution_count": 48,
     "metadata": {},
     "output_type": "execute_result"
    }
   ],
   "source": [
    "### Splitting\n",
    "X_train, X_test, y_train, y_test = train_test_split(X, y, test_size=0.3, random_state=42)\n",
    "\n",
    "### Creating data pipeline\n",
    "\n",
    "steps = [('inputer', SimpleImputer(missing_values=np.nan, strategy='mean')),\n",
    "        ('scaler', StandardScaler()),\n",
    "        ('model', xgb.XGBClassifier(n_estimators=100, booster='gbtree', seed=123,  \n",
    "                                      use_label_encoder =False, objective=\"binary:logistic\",))]\n",
    "\n",
    "xgb_pipeline = Pipeline(steps, verbose=True)\n",
    "\n",
    "xgb_pipeline.fit(X_train, y_train)\n",
    "\n"
   ]
  },
  {
   "cell_type": "code",
   "execution_count": 49,
   "id": "4bb171b6",
   "metadata": {},
   "outputs": [
    {
     "name": "stdout",
     "output_type": "stream",
     "text": [
      "ROC AUC Score for xgboost 0.7716923124182801\n"
     ]
    }
   ],
   "source": [
    "preds_xgb = xgb_pipeline.predict(X_test)\n",
    "\n",
    "print ('ROC AUC Score for xgboost',roc_auc_score(y_test,preds_xgb))"
   ]
  },
  {
   "cell_type": "code",
   "execution_count": 15,
   "id": "8d0e872a",
   "metadata": {},
   "outputs": [],
   "source": [
    "### cross_val_scores = cross_val_score(xgb_pipeline, X , y, cv=3, scoring=\"roc_auc\")\n",
    "\n",
    "### print(\"10-fold RMSE: \", np.mean(cross_val_scores))"
   ]
  },
  {
   "cell_type": "markdown",
   "id": "a988a74a",
   "metadata": {},
   "source": [
    "## Trying a logistic Regression"
   ]
  },
  {
   "cell_type": "code",
   "execution_count": 50,
   "id": "45014e28",
   "metadata": {},
   "outputs": [
    {
     "data": {
      "text/plain": [
       "Pipeline(steps=[('inputer', SimpleImputer()), ('scaler', StandardScaler()),\n",
       "                ('pca', PCA()), ('model', LogisticRegression())])"
      ]
     },
     "execution_count": 50,
     "metadata": {},
     "output_type": "execute_result"
    }
   ],
   "source": [
    "steps2 = [('inputer', SimpleImputer(missing_values=np.nan, strategy='mean')),\n",
    "         ('scaler', StandardScaler()),\n",
    "         ('pca', PCA()),\n",
    "         ('model', LogisticRegression())]\n",
    "\n",
    "\n",
    "logreg_pipeline = Pipeline(steps2)\n",
    "\n",
    "logreg_pipeline.fit(X_train, y_train)\n",
    "\n"
   ]
  },
  {
   "cell_type": "code",
   "execution_count": 51,
   "id": "2e9d3c35",
   "metadata": {},
   "outputs": [
    {
     "name": "stdout",
     "output_type": "stream",
     "text": [
      "ROC AUC Score for logreg 0.738204365233444\n"
     ]
    }
   ],
   "source": [
    "preds_logreg = logreg_pipeline.predict(X_test)\n",
    "\n",
    "print ('ROC AUC Score for logreg',roc_auc_score(y_test,preds_logreg))"
   ]
  },
  {
   "cell_type": "markdown",
   "id": "1f0b769c",
   "metadata": {},
   "source": [
    "# Trying a inputer using the median"
   ]
  },
  {
   "cell_type": "code",
   "execution_count": 52,
   "id": "fe4deb72",
   "metadata": {},
   "outputs": [
    {
     "name": "stdout",
     "output_type": "stream",
     "text": [
      "[Pipeline] ........... (step 1 of 3) Processing inputer, total=  15.5s\n",
      "[Pipeline] ............ (step 2 of 3) Processing scaler, total=   1.6s\n",
      "[23:33:36] WARNING: ..\\src\\learner.cc:1061: Starting in XGBoost 1.3.0, the default evaluation metric used with the objective 'binary:logistic' was changed from 'error' to 'logloss'. Explicitly set eval_metric if you'd like to restore the old behavior.\n",
      "[Pipeline] ............. (step 3 of 3) Processing model, total= 3.3min\n"
     ]
    },
    {
     "data": {
      "text/plain": [
       "Pipeline(steps=[('inputer', SimpleImputer(strategy='median')),\n",
       "                ('scaler', StandardScaler()),\n",
       "                ('model',\n",
       "                 XGBClassifier(base_score=0.5, booster='gbtree',\n",
       "                               colsample_bylevel=1, colsample_bynode=1,\n",
       "                               colsample_bytree=1, gamma=0, gpu_id=-1,\n",
       "                               importance_type='gain',\n",
       "                               interaction_constraints='',\n",
       "                               learning_rate=0.300000012, max_delta_step=0,\n",
       "                               max_depth=6, min_child_weight=1, missing=nan,\n",
       "                               monotone_constraints='()', n_estimators=100,\n",
       "                               n_jobs=12, num_parallel_tree=1, random_state=123,\n",
       "                               reg_alpha=0, reg_lambda=1, scale_pos_weight=1,\n",
       "                               seed=123, subsample=1, tree_method='exact',\n",
       "                               use_label_encoder=False, validate_parameters=1,\n",
       "                               verbosity=None))],\n",
       "         verbose=True)"
      ]
     },
     "execution_count": 52,
     "metadata": {},
     "output_type": "execute_result"
    }
   ],
   "source": [
    "### Splitting\n",
    "X_train, X_test, y_train, y_test = train_test_split(X, y, test_size=0.3, random_state=42)\n",
    "\n",
    "### Creating data pipeline\n",
    "\n",
    "steps = [('inputer', SimpleImputer(missing_values=np.nan, strategy='median')),\n",
    "        ('scaler', StandardScaler()),\n",
    "        ('model', xgb.XGBClassifier(n_estimators=100, booster='gbtree', seed=123,  \n",
    "                                      use_label_encoder =False, objective=\"binary:logistic\",))]\n",
    "\n",
    "xgb_pipeline_median = Pipeline(steps, verbose=True)\n",
    "\n",
    "xgb_pipeline_median.fit(X_train, y_train)"
   ]
  },
  {
   "cell_type": "code",
   "execution_count": 53,
   "id": "e542023e",
   "metadata": {},
   "outputs": [
    {
     "name": "stdout",
     "output_type": "stream",
     "text": [
      "ROC AUC Score for logreg 0.771587600419851\n"
     ]
    }
   ],
   "source": [
    "preds_xgb_median = xgb_pipeline_median.predict(X_test)\n",
    "\n",
    "print ('ROC AUC Score for logreg',roc_auc_score(y_test,preds_xgb_median))"
   ]
  },
  {
   "cell_type": "markdown",
   "id": "bc8f03c1",
   "metadata": {},
   "source": [
    "## trying robust"
   ]
  },
  {
   "cell_type": "code",
   "execution_count": 54,
   "id": "8a54f509",
   "metadata": {},
   "outputs": [
    {
     "name": "stdout",
     "output_type": "stream",
     "text": [
      "[Pipeline] ........... (step 1 of 3) Processing inputer, total=  15.6s\n",
      "[Pipeline] ............ (step 2 of 3) Processing scaler, total=   2.4s\n",
      "[23:40:47] WARNING: ..\\src\\learner.cc:1061: Starting in XGBoost 1.3.0, the default evaluation metric used with the objective 'binary:logistic' was changed from 'error' to 'logloss'. Explicitly set eval_metric if you'd like to restore the old behavior.\n",
      "[Pipeline] ............. (step 3 of 3) Processing model, total= 3.5min\n"
     ]
    },
    {
     "data": {
      "text/plain": [
       "Pipeline(steps=[('inputer', SimpleImputer(strategy='median')),\n",
       "                ('scaler', RobustScaler()),\n",
       "                ('model',\n",
       "                 XGBClassifier(base_score=0.5, booster='gbtree',\n",
       "                               colsample_bylevel=1, colsample_bynode=1,\n",
       "                               colsample_bytree=1, gamma=0, gpu_id=-1,\n",
       "                               importance_type='gain',\n",
       "                               interaction_constraints='',\n",
       "                               learning_rate=0.300000012, max_delta_step=0,\n",
       "                               max_depth=6, min_child_weight=1, missing=nan,\n",
       "                               monotone_constraints='()', n_estimators=100,\n",
       "                               n_jobs=12, num_parallel_tree=1, random_state=123,\n",
       "                               reg_alpha=0, reg_lambda=1, scale_pos_weight=1,\n",
       "                               seed=123, subsample=1, tree_method='exact',\n",
       "                               use_label_encoder=False, validate_parameters=1,\n",
       "                               verbosity=None))],\n",
       "         verbose=True)"
      ]
     },
     "execution_count": 54,
     "metadata": {},
     "output_type": "execute_result"
    }
   ],
   "source": [
    "### Splitting\n",
    "X_train, X_test, y_train, y_test = train_test_split(X, y, test_size=0.3, random_state=42)\n",
    "\n",
    "### Creating data pipeline\n",
    "\n",
    "steps = [('inputer', SimpleImputer(missing_values=np.nan, strategy='median')),\n",
    "        ('scaler', RobustScaler()),\n",
    "        ('model', xgb.XGBClassifier(n_estimators=100, booster='gbtree', seed=123,  \n",
    "                                      use_label_encoder =False, objective=\"binary:logistic\",))]\n",
    "\n",
    "xgb_pipeline_median_robust = Pipeline(steps, verbose=True)\n",
    "\n",
    "xgb_pipeline_median_robust.fit(X_train, y_train)"
   ]
  },
  {
   "cell_type": "code",
   "execution_count": 55,
   "id": "e2fd2eea",
   "metadata": {},
   "outputs": [
    {
     "name": "stdout",
     "output_type": "stream",
     "text": [
      "ROC AUC Score for logreg 0.7715841029869667\n"
     ]
    }
   ],
   "source": [
    "preds_xgb_median_robust= xgb_pipeline_median_robust.predict(X_test)\n",
    "\n",
    "print ('ROC AUC Score for logreg',roc_auc_score(y_test,preds_xgb_median_robust))"
   ]
  },
  {
   "cell_type": "markdown",
   "id": "a937357b",
   "metadata": {},
   "source": [
    "## using best model to predict test df"
   ]
  },
  {
   "cell_type": "code",
   "execution_count": 66,
   "id": "80319fff",
   "metadata": {},
   "outputs": [
    {
     "name": "stdout",
     "output_type": "stream",
     "text": [
      "         f1        f2        f3       f4       f5       f6       f7        f8  \\\n",
      "0  0.165850  0.487050   1295.00  0.02310  0.31900  0.90188   573.29    3743.7   \n",
      "1  0.129650  0.373480   1763.00  0.72884  0.33247 -1.26310   875.55  554370.0   \n",
      "2  0.120190  0.445210    736.26  0.04615  0.29605  0.31665  2659.50  317140.0   \n",
      "3  0.054008  0.395960    996.14  0.85934  0.36678 -0.17060   386.56  325680.0   \n",
      "4  0.079947 -0.006919  10574.00  0.34845  0.45008 -1.84200  3027.00  428150.0   \n",
      "\n",
      "             f9       f10  ...      f112     f113     f114    f115  \\\n",
      "0  2.705700e+12  6221.000  ...  0.430880 -10.7410  81606.0  1.1940   \n",
      "1  5.955700e+14   934.430  ... -1.071200  11.8320  90114.0  1.1507   \n",
      "2  3.977800e+14   131.810  ... -1.931200  -3.2804  37739.0  1.1548   \n",
      "3 -3.432200e+13   -26.473  ... -0.011633   1.3840  26849.0  1.1490   \n",
      "4  9.291500e+11  5999.400  ...  0.757080  -4.9405  50336.0  1.2488   \n",
      "\n",
      "           f116    f117     f118  nan           std           var  \n",
      "0  1.980400e+14  2017.1  0.46357    1  5.542248e+15  3.066922e+31  \n",
      "1  4.388000e+16  6638.9  0.28125    0  4.046919e+15  1.634932e+31  \n",
      "2  1.718100e+14  5844.0  0.13797    1  4.020470e+13  1.612849e+27  \n",
      "3  2.138800e+17  6173.3  0.32910    0  1.983174e+16  3.926045e+32  \n",
      "4  2.151300e+17  2250.1  0.33796    0  1.963817e+16  3.850743e+32  \n",
      "\n",
      "[5 rows x 121 columns]\n"
     ]
    }
   ],
   "source": [
    "test_df['nan'] = test_df.isnull().sum(axis=1)\n",
    "test_df['std'] = test_df.std(axis=1)\n",
    "test_df['var'] = test_df.var(axis=1)\n",
    "\n",
    "ids = test_df.pop('id')\n",
    "\n",
    "print(test_df.head())\n",
    "\n"
   ]
  },
  {
   "cell_type": "code",
   "execution_count": 67,
   "id": "7e049814",
   "metadata": {},
   "outputs": [
    {
     "data": {
      "text/html": [
       "<div>\n",
       "<style scoped>\n",
       "    .dataframe tbody tr th:only-of-type {\n",
       "        vertical-align: middle;\n",
       "    }\n",
       "\n",
       "    .dataframe tbody tr th {\n",
       "        vertical-align: top;\n",
       "    }\n",
       "\n",
       "    .dataframe thead th {\n",
       "        text-align: right;\n",
       "    }\n",
       "</style>\n",
       "<table border=\"1\" class=\"dataframe\">\n",
       "  <thead>\n",
       "    <tr style=\"text-align: right;\">\n",
       "      <th></th>\n",
       "      <th>id</th>\n",
       "      <th>claim</th>\n",
       "    </tr>\n",
       "  </thead>\n",
       "  <tbody>\n",
       "    <tr>\n",
       "      <th>0</th>\n",
       "      <td>957919</td>\n",
       "      <td>1</td>\n",
       "    </tr>\n",
       "    <tr>\n",
       "      <th>1</th>\n",
       "      <td>957920</td>\n",
       "      <td>0</td>\n",
       "    </tr>\n",
       "    <tr>\n",
       "      <th>2</th>\n",
       "      <td>957921</td>\n",
       "      <td>1</td>\n",
       "    </tr>\n",
       "    <tr>\n",
       "      <th>3</th>\n",
       "      <td>957922</td>\n",
       "      <td>0</td>\n",
       "    </tr>\n",
       "    <tr>\n",
       "      <th>4</th>\n",
       "      <td>957923</td>\n",
       "      <td>0</td>\n",
       "    </tr>\n",
       "  </tbody>\n",
       "</table>\n",
       "</div>"
      ],
      "text/plain": [
       "       id  claim\n",
       "0  957919      1\n",
       "1  957920      0\n",
       "2  957921      1\n",
       "3  957922      0\n",
       "4  957923      0"
      ]
     },
     "execution_count": 67,
     "metadata": {},
     "output_type": "execute_result"
    }
   ],
   "source": [
    "final_pred = xgb_pipeline.predict(test_df)\n",
    "\n",
    "output = pd.DataFrame({'id': ids,\n",
    "                       'claim': final_pred.squeeze()})\n",
    "\n",
    "output.head()"
   ]
  },
  {
   "cell_type": "code",
   "execution_count": 68,
   "id": "98cbf51a",
   "metadata": {},
   "outputs": [],
   "source": [
    "output_filename = \"test_prediction_output.csv\"\n",
    "output.to_csv(output_filename, index=False)"
   ]
  },
  {
   "cell_type": "code",
   "execution_count": null,
   "id": "4eff79d1",
   "metadata": {},
   "outputs": [],
   "source": []
  }
 ],
 "metadata": {
  "kernelspec": {
   "display_name": "Python 3",
   "language": "python",
   "name": "python3"
  },
  "language_info": {
   "codemirror_mode": {
    "name": "ipython",
    "version": 3
   },
   "file_extension": ".py",
   "mimetype": "text/x-python",
   "name": "python",
   "nbconvert_exporter": "python",
   "pygments_lexer": "ipython3",
   "version": "3.9.1"
  }
 },
 "nbformat": 4,
 "nbformat_minor": 5
}
